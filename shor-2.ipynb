{
 "cells": [
  {
   "cell_type": "code",
   "execution_count": null,
   "metadata": {},
   "outputs": [],
   "source": [
    "def prime_factors(n):\n",
    "    factors = []\n",
    "    divisor = 2\n",
    "    \n",
    "    while n > 1:\n",
    "        while n % divisor == 0:\n",
    "            factors.append(divisor)\n",
    "            n //= divisor\n",
    "        divisor += 1\n",
    "    \n",
    "    return factors\n",
    "\n",
    "# Example\n",
    "number = 987654321999999999\n",
    "result = prime_factors(number)\n",
    "print(f\"Prime factors of {number}: {result}\")\n"
   ]
  },
  {
   "cell_type": "code",
   "execution_count": null,
   "metadata": {},
   "outputs": [],
   "source": [
    "# Finding Prime Factors of an integer using Shor's algorithm on classical computers. \n",
    "# Authors: Vridhi Jain and Sunil Jain; Creative Commons Attribution License CC-BY-3.0.\n",
    "# This is an open access materia distributed under the terms of the Creative Commons Attribution License CC-BY-3.0, which permits unrestricted use, distribution, and reproduction in any medium, provided the original author and source are credited.  \n",
    "\n",
    "\n",
    "def find_r_values(g, n, num_values):\n",
    "    r_values = []\n",
    "    r = 1\n",
    "\n",
    "    while len(r_values) < num_values:\n",
    "        # Check if (g^r)/n leaves remainder 1\n",
    "        if (g ** r) % n == 1:\n",
    "            r_values.append(r)\n",
    "\n",
    "        r += 1\n",
    "\n",
    "    return r_values\n",
    "\n",
    "def find_prime_factors_for_r(g, n, r_values):\n",
    "    prime_factors = []\n",
    "    \n",
    "    for r in r_values:\n",
    "        # Check if ((g^(r/2) + 1) or (g^(r/2) - 1)) is a multiple of a prime factor of n\n",
    "        factors = prime_factors(n)\n",
    "\n",
    "        for factor in factors:\n",
    "            candidate1 = (g ** (r // 2) + 1) // factor\n",
    "            candidate2 = (g ** (r // 2) - 1) // factor\n",
    "\n",
    "            if (g ** (r // 2) + 1) % factor == 0 or (g ** (r // 2) - 1) % factor == 0:\n",
    "                prime_factors.append(factor)\n",
    "\n",
    "    return prime_factors\n",
    "\n",
    "# Example usage and logic: Assume n = p*q (where p and q are prime); asuume a number g which is coprime with n; In the equation g^r = m*n+1, find r such that g^r/n leaves remainder 1.\n",
    "g_value = 5  # Replace with your desired value for g\n",
    "n_value = 123456789  # Replace with your desired value for n\n",
    "num_values_to_find = 2  # Replace with the number of r values you want to find\n",
    "\n",
    "r_values = find_r_values(g_value, n_value, num_values_to_find)\n",
    "calculated_prime_factors = find_prime_factors_for_r(g_value, n_value, r_values)\n",
    "\n",
    "print(f\"Prime factors of n ({n_value}) such that ((g^(r/2)+1) or (g^(r/2)-1)) is a multiple of one of them:\")\n",
    "print(calculated_prime_factors, r_values)"
   ]
  },
  {
   "cell_type": "code",
   "execution_count": null,
   "metadata": {},
   "outputs": [],
   "source": []
  }
 ],
 "metadata": {
  "kernelspec": {
   "display_name": "base",
   "language": "python",
   "name": "python3"
  },
  "language_info": {
   "codemirror_mode": {
    "name": "ipython",
    "version": 3
   },
   "file_extension": ".py",
   "mimetype": "text/x-python",
   "name": "python",
   "nbconvert_exporter": "python",
   "pygments_lexer": "ipython3",
   "version": "3.11.5"
  }
 },
 "nbformat": 4,
 "nbformat_minor": 2
}
